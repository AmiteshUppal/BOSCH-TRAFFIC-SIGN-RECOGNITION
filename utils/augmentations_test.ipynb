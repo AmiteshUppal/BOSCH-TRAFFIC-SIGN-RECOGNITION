{
 "cells": [
  {
   "cell_type": "code",
   "execution_count": 18,
   "metadata": {
    "id": "rvo5k6S7wTs1"
   },
   "outputs": [],
   "source": [
    "import cv2\n",
    "import numpy as np\n",
    "import matplotlib.pyplot as plt"
   ]
  },
  {
   "cell_type": "code",
   "execution_count": 19,
   "metadata": {
    "id": "MHwGxaWPwwOC"
   },
   "outputs": [],
   "source": [
    "def rotate(img, angle=0):\n",
    "\n",
    "    rows, cols, _ = img.shape\n",
    "    M = cv2.getRotationMatrix2D((cols/2,rows/2), angle, 1)\n",
    "    timg = cv2.warpAffine(img, M, (cols,rows))\n",
    "    return timg\n",
    "\n",
    "def average_blur(img, kdim=8):\n",
    "\n",
    "    timg = cv2.blur(img, (kdim, kdim))\n",
    "    return timg\n",
    "\n",
    "def gaussian_blur(img, kdim=8, var=5):\n",
    "\n",
    "    try:\n",
    "        timg = cv2.GaussianBlur(img, (kdim, kdim), var)\n",
    "        return timg\n",
    "    except:\n",
    "        if(ksize[0]%2==0):\n",
    "            print(\"kernel dimension cannot be even for gaussian blur.\")\n",
    "\n",
    "def gaussian_noise(img, var=10, mean=0):\n",
    "\n",
    "    row, col, _ = img.shape\n",
    "    sigma = var ** 0.5\n",
    "    gaussian = np.random.normal(mean,sigma,(row, col))\n",
    "    timg = np.zeros(img.shape, np.float32)\n",
    "    timg[:, :, 0] = img[:, :, 0] + gaussian\n",
    "    timg[:, :, 1] = img[:, :, 1] + gaussian\n",
    "    timg[:, :, 2] = img[:, :, 2] + gaussian\n",
    "    cv2.normalize(timg, timg, 0, 255, cv2.NORM_MINMAX, dtype=-1)\n",
    "    timg = timg.astype(np.uint8)\n",
    "    return timg\n",
    "\n",
    "def sharpen(img, kdim=5, sigma=1.0, amount=1.0, threshold=0):\n",
    "\n",
    "    blurred = cv2.GaussianBlur(img, (kdim, kdim), sigma)\n",
    "    timg = float(amount + 1) * img - float(amount) * blurred\n",
    "    timg = np.maximum(timg, np.zeros(timg.shape))\n",
    "    timg = np.minimum(timg, 255 * np.ones(timg.shape))\n",
    "    timg = timg.round().astype(np.uint8)\n",
    "    if threshold > 0:\n",
    "        low_contrast_mask = np.absolute(img - blurred) < threshold\n",
    "        np.copyto(timg, img, where=low_contrast_mask)\n",
    "    return timg\n",
    "\n",
    "def horizontal_flip(img):\n",
    "\n",
    "    timg = cv2.flip(img, 1)\n",
    "    return timg\n",
    "\n",
    "def vertical_flip(img):\n",
    "\n",
    "    timg = cv2.flip(img, 0)\n",
    "    return timg\n",
    "\n",
    "def perspective_transform(img, input_pts=np.float32([[0, 0], [32, 0], [0, 32], [32, 32]])):\n",
    "\n",
    "    row, col, _ = img.shape\n",
    "    output_pts=np.float32([[0, 0], [32, 0], [0, 32], [32, 32]])\n",
    "    M = cv2.getPerspectiveTransform(input_pts, output_pts)\n",
    "    timg = cv2.warpPerspective(img, M, (32, 32))\n",
    "    return timg\n",
    "\n",
    "def crop(img, input_pts=np.float32([[0, 0], [32, 0], [0, 32], [32, 32]])):\n",
    "\n",
    "    row, col, _ = img.shape\n",
    "    output_pts=np.float32([[0, 0], [32, 0], [0, 32], [32, 32]])\n",
    "    M = cv2.getPerspectiveTransform(input_pts, output_pts)\n",
    "    timg = cv2.warpPerspective(img, M, (32, 32))\n",
    "    return timg\n",
    "\n",
    "def random_erasing(img, region=np.array([[12, 12], [20, 12], [12, 20], [20, 20]]), randomize=False, grayIndex=0, mean=0, var=10):\n",
    "\n",
    "    row, col, _ = img.shape\n",
    "    sigma = var ** 0.5\n",
    "    timg = img\n",
    "    a = region[0, 0]\n",
    "    b = region[1, 0]\n",
    "    c = region[0, 1]\n",
    "    d = region[2, 1]\n",
    "    if randomize:\n",
    "        gaussian = np.random.normal(mean, sigma, (b-a, d-c))\n",
    "        timg[a:b, c:d, 0] = gaussian\n",
    "        timg[a:b, c:d, 1] = gaussian\n",
    "        timg[a:b, c:d, 2] = gaussian\n",
    "        cv2.normalize(timg, timg, 0, 255, cv2.NORM_MINMAX, dtype=-1)\n",
    "    else:\n",
    "        patch = grayIndex*np.ones((b-a, d-c))\n",
    "        timg[a:b, c:d, 0] = patch\n",
    "        timg[a:b, c:d, 1] = patch\n",
    "        timg[a:b, c:d, 2] = patch\n",
    "\n",
    "    return timg"
   ]
  },
  {
   "cell_type": "code",
   "execution_count": 20,
   "metadata": {
    "colab": {
     "base_uri": "https://localhost:8080/",
     "height": 194
    },
    "id": "0NDCBXlawxHT",
    "outputId": "92e9ff72-dd46-4d00-9024-edbe9e8fa73f"
   },
   "outputs": [
    {
     "data": {
      "image/png": "[encoded data removed]",
      "text/plain": [
       "<Figure size 216x216 with 1 Axes>"
      ]
     },
     "metadata": {
      "needs_background": "light"
     },
     "output_type": "display_data"
    }
   ],
   "source": [
    "src = cv2.imread(\"./Samples/27595.jpg\")\n",
    "plt.figure(figsize=(3,3))\n",
    "plt.imshow(src)\n",
    "plt.axis('off')\n",
    "plt.show()"
   ]
  },
  {
   "cell_type": "code",
   "execution_count": 21,
   "metadata": {
    "colab": {
     "base_uri": "https://localhost:8080/",
     "height": 194
    },
    "id": "frr1hrVxw5mY",
    "outputId": "5e307eab-ffff-435b-8302-a99a3fef284e"
   },
   "outputs": [
    {
     "data": {
      "image/png": "[encoded data removed]",
      "text/plain": [
       "<Figure size 216x216 with 1 Axes>"
      ]
     },
     "metadata": {
      "needs_background": "light"
     },
     "output_type": "display_data"
    }
   ],
   "source": [
    "image = rotate(src, 30)\n",
    "plt.figure(figsize=(3,3))\n",
    "plt.imshow(image)\n",
    "plt.axis('off')\n",
    "plt.show()"
   ]
  },
  {
   "cell_type": "code",
   "execution_count": 22,
   "metadata": {
    "colab": {
     "base_uri": "https://localhost:8080/",
     "height": 194
    },
    "id": "5z1YfN7Cxdiv",
    "outputId": "bc8336b9-067d-471e-c053-3fa953dc9803"
   },
   "outputs": [
    {
     "data": {
      "image/png": "[encoded data removed]",
      "text/plain": [
       "<Figure size 216x216 with 1 Axes>"
      ]
     },
     "metadata": {
      "needs_background": "light"
     },
     "output_type": "display_data"
    }
   ],
   "source": [
    "image = average_blur(src, 3)\n",
    "plt.figure(figsize=(3,3))\n",
    "plt.imshow(image)\n",
    "plt.axis('off')\n",
    "plt.show()"
   ]
  },
  {
   "cell_type": "code",
   "execution_count": 23,
   "metadata": {
    "colab": {
     "base_uri": "https://localhost:8080/",
     "height": 194
    },
    "id": "_alCyxMoyHR1",
    "outputId": "9e50ae52-4f43-4506-dae8-c8ce96ea54dd"
   },
   "outputs": [
    {
     "data": {
      "image/png": "[encoded data removed]",
      "text/plain": [
       "<Figure size 216x216 with 1 Axes>"
      ]
     },
     "metadata": {
      "needs_background": "light"
     },
     "output_type": "display_data"
    }
   ],
   "source": [
    "image = gaussian_blur(src, 3)\n",
    "plt.figure(figsize=(3,3))\n",
    "plt.imshow(image)\n",
    "plt.axis('off')\n",
    "plt.show()"
   ]
  },
  {
   "cell_type": "code",
   "execution_count": 24,
   "metadata": {
    "colab": {
     "base_uri": "https://localhost:8080/",
     "height": 194
    },
    "id": "aEhCmqWmyV4e",
    "outputId": "3fa925f4-9b4c-4915-f0a2-e60b43183af7"
   },
   "outputs": [
    {
     "data": {
      "image/png": "[encoded data removed]",
      "text/plain": [
       "<Figure size 216x216 with 1 Axes>"
      ]
     },
     "metadata": {
      "needs_background": "light"
     },
     "output_type": "display_data"
    }
   ],
   "source": [
    "image = sharpen(src, amount=5)\n",
    "plt.figure(figsize=(3,3))\n",
    "plt.imshow(image)\n",
    "plt.axis('off')\n",
    "plt.show()"
   ]
  },
  {
   "cell_type": "code",
   "execution_count": 25,
   "metadata": {
    "colab": {
     "base_uri": "https://localhost:8080/",
     "height": 194
    },
    "id": "7LkOQAAr0Ims",
    "outputId": "98cf13cb-62b2-4a90-97a8-72f5e115eff6"
   },
   "outputs": [
    {
     "data": {
      "image/png": "[encoded data removed]",
      "text/plain": [
       "<Figure size 216x216 with 1 Axes>"
      ]
     },
     "metadata": {
      "needs_background": "light"
     },
     "output_type": "display_data"
    }
   ],
   "source": [
    "image = gaussian_noise(src, 100)\n",
    "plt.figure(figsize=(3,3))\n",
    "plt.imshow(image)\n",
    "plt.axis('off')\n",
    "plt.show()"
   ]
  },
  {
   "cell_type": "code",
   "execution_count": 26,
   "metadata": {
    "colab": {
     "base_uri": "https://localhost:8080/",
     "height": 194
    },
    "id": "UlFnY0Xw0aM_",
    "outputId": "7aa0b1db-3149-41ac-ff51-4d39f4d6fd17"
   },
   "outputs": [
    {
     "data": {
      "image/png": "[encoded data removed]",
      "text/plain": [
       "<Figure size 216x216 with 1 Axes>"
      ]
     },
     "metadata": {
      "needs_background": "light"
     },
     "output_type": "display_data"
    }
   ],
   "source": [
    "image = horizontal_flip(src)\n",
    "plt.figure(figsize=(3,3))\n",
    "plt.imshow(image)\n",
    "plt.axis('off')\n",
    "plt.show()"
   ]
  },
  {
   "cell_type": "code",
   "execution_count": 27,
   "metadata": {
    "colab": {
     "base_uri": "https://localhost:8080/",
     "height": 194
    },
    "id": "9nyvjepb0zw7",
    "outputId": "642a7f5f-0d2c-441e-fb75-0142ec7ddcb8"
   },
   "outputs": [
    {
     "data": {
      "image/png": "[encoded data removed]",
      "text/plain": [
       "<Figure size 216x216 with 1 Axes>"
      ]
     },
     "metadata": {
      "needs_background": "light"
     },
     "output_type": "display_data"
    }
   ],
   "source": [
    "image = vertical_flip(src)\n",
    "plt.figure(figsize=(3,3))\n",
    "plt.imshow(image)\n",
    "plt.axis('off')\n",
    "plt.show()"
   ]
  },
  {
   "cell_type": "code",
   "execution_count": 28,
   "metadata": {
    "colab": {
     "base_uri": "https://localhost:8080/",
     "height": 194
    },
    "id": "U9V1MSfR1JOl",
    "outputId": "dbeb5c27-4d13-475b-c5b3-2498093ede68"
   },
   "outputs": [
    {
     "data": {
      "image/png": "[encoded data removed]",
      "text/plain": [
       "<Figure size 216x216 with 1 Axes>"
      ]
     },
     "metadata": {
      "needs_background": "light"
     },
     "output_type": "display_data"
    }
   ],
   "source": [
    "image = perspective_transform(src, np.float32([[1, 0], [28, 10], [3, 30], [31, 30]]))\n",
    "plt.figure(figsize=(3,3))\n",
    "plt.imshow(image)\n",
    "plt.axis('off')\n",
    "plt.show()"
   ]
  },
  {
   "cell_type": "code",
   "execution_count": 29,
   "metadata": {
    "colab": {
     "base_uri": "https://localhost:8080/",
     "height": 194
    },
    "id": "tQqX5Lql2G98",
    "outputId": "4ee68f8e-a35a-4754-d100-6902b87f336e"
   },
   "outputs": [
    {
     "data": {
      "image/png": "[encoded data removed]",
      "text/plain": [
       "<Figure size 216x216 with 1 Axes>"
      ]
     },
     "metadata": {
      "needs_background": "light"
     },
     "output_type": "display_data"
    }
   ],
   "source": [
    "image = random_erasing(src)\n",
    "plt.figure(figsize=(3,3))\n",
    "plt.imshow(image)\n",
    "plt.axis('off')\n",
    "plt.show()"
   ]
  }
 ],
 "metadata": {
  "colab": {
   "collapsed_sections": [],
   "name": "augmentations.ipynb",
   "provenance": []
  },
  "kernelspec": {
   "display_name": "Python 3",
   "language": "python",
   "name": "python3"
  },
  "language_info": {
   "codemirror_mode": {
    "name": "ipython",
    "version": 3
   },
   "file_extension": ".py",
   "mimetype": "text/x-python",
   "name": "python",
   "nbconvert_exporter": "python",
   "pygments_lexer": "ipython3",
   "version": "3.8.3"
  }
 },
 "nbformat": 4,
 "nbformat_minor": 1
}
